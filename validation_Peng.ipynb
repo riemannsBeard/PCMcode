{
 "cells": [
  {
   "cell_type": "code",
   "execution_count": 1,
   "id": "b845190c",
   "metadata": {},
   "outputs": [],
   "source": [
    "%matplotlib inline\n",
    "import matplotlib_inline\n",
    "# matplotlib_inline.backend_inline.set_matplotlib_formats('svg','pdf')\n",
    "\n",
    "import csv\n",
    "import numpy as np\n",
    "import scipy as sp\n",
    "import matplotlib.pyplot as plt\n",
    "from scipy import interpolate\n",
    "from scipy.interpolate import CubicSpline\n",
    "\n",
    "plt.rcParams['text.usetex'] = True\n",
    "plt.rcParams['font.family'] = 'serif'\n",
    "plt.rcParams['font.serif'] = [\"Computer Modern Roman\"]\n",
    "plt.rcParams['axes.formatter.use_mathtext'] = True\n",
    "plt.rcParams['legend.fontsize'] = 12\n",
    "plt.rcParams['axes.labelsize'] = 12\n",
    "plt.rcParams['axes.titlesize'] = 12\n",
    "plt.rcParams['figure.titlesize'] = 12\n",
    "plt.rcParams['xtick.labelsize'] = 12\n",
    "plt.rcParams['ytick.labelsize'] = 12\n",
    "plt.rcParams['lines.markersize'] = 3\n",
    "\n",
    "# Figsize\n",
    "cm = 1/2.54  # centimeters in inches"
   ]
  },
  {
   "cell_type": "code",
   "execution_count": 2,
   "id": "1c3385de",
   "metadata": {},
   "outputs": [],
   "source": [
    "R = 0.5\n",
    "H = 2"
   ]
  },
  {
   "cell_type": "code",
   "execution_count": 3,
   "id": "1108fa9f",
   "metadata": {},
   "outputs": [],
   "source": [
    "dt = 0.5*0.36\n",
    "dx = 2.2e-2\n",
    "\n",
    "t0 = 0*3600\n",
    "tf = 8*3600\n",
    "xf = H\n",
    "\n",
    "t = np.arange(t0, tf + dt, dt)\n",
    "x = np.arange(0, xf + dx, dx)\n",
    "\n",
    "dx = x[1] - x[0]\n",
    "# dt = t[1] - t[0]\n",
    "\n",
    "Nx = len(x) - 1\n",
    "Nt = len(t) - 1"
   ]
  },
  {
   "cell_type": "code",
   "execution_count": 4,
   "id": "d6ec7b62",
   "metadata": {},
   "outputs": [],
   "source": [
    "Tmin = 450\n",
    "Tmax = 592\n",
    "eps = 0.4"
   ]
  },
  {
   "cell_type": "code",
   "execution_count": 5,
   "id": "8f55418f",
   "metadata": {},
   "outputs": [],
   "source": [
    "Tavg = 0.5*(Tmax + Tmin) - 273\n",
    "\n",
    "rhof = 15.4\n",
    "muf = 2.53e-5\n",
    "cpf = 1032\n",
    "kf = 0.037\n",
    "\n",
    "d = 0.020\n",
    "mDot = 0.2\n",
    "u = mDot/(rhof*eps*np.pi*R**2)\n",
    "\n",
    "rhos = 2560\n",
    "cps = 960\n",
    "ks = 0.48"
   ]
  },
  {
   "cell_type": "code",
   "execution_count": 6,
   "id": "59e6cc8f",
   "metadata": {},
   "outputs": [
    {
     "data": {
      "text/plain": [
       "0.33822774210792406"
      ]
     },
     "execution_count": 6,
     "metadata": {},
     "output_type": "execute_result"
    }
   ],
   "source": [
    "CFL = dt*u/dx\n",
    "CFL"
   ]
  },
  {
   "cell_type": "code",
   "execution_count": 7,
   "id": "78034278",
   "metadata": {},
   "outputs": [],
   "source": [
    "T0 = Tmin\n",
    "Tin = Tmax\n",
    "\n",
    "Tf = np.zeros((Nx+1, Nt+1))\n",
    "Ts = np.zeros((Nx+1, Nt+1))\n",
    "\n",
    "# ICs\n",
    "Tf[:,0] = T0\n",
    "Ts[:,0] = T0\n",
    "\n",
    "# BCs\n",
    "Tf[0,:] = Tin"
   ]
  },
  {
   "cell_type": "code",
   "execution_count": 8,
   "id": "549fdd54",
   "metadata": {},
   "outputs": [],
   "source": [
    "alpha = eps*rhof*cpf\n",
    "beta = eps*kf\n",
    "gamma = (1-eps)*rhos*cps\n",
    "betas = ks*(1 - eps)\n",
    "\n",
    "Rep = rhof*d*eps*u/muf\n",
    "Pr = cpf*muf/kf\n",
    "Nu = 2.2 + 0.56*Pr**(1/3)*Rep**(0.65)\n",
    "a = Nu*kf/d\n",
    "\n",
    "h = a*6*(1-eps)/d\n",
    "\n",
    "p = dt*u/dx\n",
    "q = 2*beta/alpha*0.5*dt/(dx**2)\n",
    "r = h*dt/alpha\n",
    "\n",
    "rs = dt*h/gamma\n",
    "qs = 2*betas*0.5*dt/(gamma*dx**2)"
   ]
  },
  {
   "cell_type": "code",
   "execution_count": 9,
   "id": "3bb6b3e4",
   "metadata": {},
   "outputs": [],
   "source": [
    "diagonals = [np.ones(Nx)*(1 + 2*q + r + p), np.ones(Nx)*(-q), np.ones(Nx)*(-p-q)]\n",
    "offsets = [0, 1, -1]\n",
    "A = sp.sparse.diags(diagonals, offsets).toarray()\n",
    "A[-1,-2] = -2*q - p\n",
    "\n",
    "A = sp.sparse.csr_matrix(A)\n",
    "# A_inv = sp.sparse.linalg.inv(A)"
   ]
  },
  {
   "cell_type": "code",
   "execution_count": 10,
   "id": "dd1d799d",
   "metadata": {},
   "outputs": [],
   "source": [
    "diagonals = [np.ones(Nx + 1)*(1 + 2*qs + rs), np.ones(Nx + 1)*(-qs), np.ones(Nx + 1)*(-qs)]\n",
    "offsets = [0, 1, -1]\n",
    "As = sp.sparse.diags(diagonals, offsets).toarray()\n",
    "As[-1,-2] = -2*qs\n",
    "As[0,1] = -2*qs\n",
    "\n",
    "As = sp.sparse.csr_matrix(As)\n",
    "# As_inv = sp.sparse.linalg.inv(As)"
   ]
  },
  {
   "cell_type": "code",
   "execution_count": 11,
   "id": "5040e2d1",
   "metadata": {},
   "outputs": [
    {
     "name": "stderr",
     "output_type": "stream",
     "text": [
      "C:\\Users\\MAAL1A\\AppData\\Local\\anaconda3\\Lib\\site-packages\\scipy\\sparse\\linalg\\_dsolve\\linsolve.py:394: SparseEfficiencyWarning: splu converted its input to CSC format\n",
      "  warn('splu converted its input to CSC format', SparseEfficiencyWarning)\n",
      "C:\\Users\\MAAL1A\\AppData\\Local\\anaconda3\\Lib\\site-packages\\scipy\\sparse\\linalg\\_dsolve\\linsolve.py:285: SparseEfficiencyWarning: spsolve is more efficient when sparse b is in the CSC matrix format\n",
      "  warn('spsolve is more efficient when sparse b '\n"
     ]
    }
   ],
   "source": [
    "AA = sp.sparse.block_diag((sp.sparse.linalg.inv(A), sp.sparse.linalg.inv(As)))"
   ]
  },
  {
   "cell_type": "code",
   "execution_count": 12,
   "id": "b4448074",
   "metadata": {},
   "outputs": [],
   "source": [
    "bc0 = np.zeros(Nx)\n",
    "bc1 = np.zeros(Nx)\n",
    "\n",
    "bc0[0] = Tin\n",
    "bc1[0] = Tin"
   ]
  },
  {
   "cell_type": "code",
   "execution_count": 13,
   "id": "8ea418ad",
   "metadata": {},
   "outputs": [],
   "source": [
    "for i in range(1,Nt+1):\n",
    "    \n",
    "#     bc0 = np.zeros(Nx)\n",
    "#     bc1 = np.zeros(Nx)\n",
    "\n",
    "#     bc0[0] = Tin\n",
    "#     bc1[0] = Tin\n",
    "\n",
    "#     Ts[i,:] = sp.sparse.linalg.spsolve(As, Ts[i-1,:] + rs*Tf[i-1,:])\n",
    "\n",
    "#     Tf[i,1:] = sp.sparse.linalg.spsolve(A, Tf[i-1,1:] + (q + p)*bc1 + \\\n",
    "#                 r*Ts[i-1,1:])\n",
    "\n",
    "\n",
    "    # Solve the entire coupled system in matrix form\n",
    "    TT = np.concatenate([Tf[1:,i-1] + (q + p)*bc1 + r*Ts[1:,i-1],\n",
    "                         Ts[:,i-1] + rs*Tf[:,i-1]])\n",
    "    sol = AA.dot(TT)   \n",
    "    \n",
    "    Tf[1:,i] = sol[:Nx]\n",
    "    Ts[:,i] = sol[Nx:]\n"
   ]
  },
  {
   "cell_type": "code",
   "execution_count": 14,
   "id": "e211d2ab",
   "metadata": {
    "scrolled": false
   },
   "outputs": [
    {
     "data": {
      "image/png": "[encoded data removed]",
      "text/plain": [
       "<Figure size 551.181x551.181 with 4 Axes>"
      ]
     },
     "metadata": {},
     "output_type": "display_data"
    }
   ],
   "source": [
    "fig, axs = plt.subplots(nrows=2, ncols=1, figsize=(14*cm,14*cm), sharex='row')\n",
    "(ax1, ax2) = axs\n",
    "\n",
    "cs1 = ax1.contourf(x, t/3600, Tf.T - 273, 10)\n",
    "plt.tight_layout()\n",
    "cbar1 = plt.colorbar(cs1)\n",
    "cbar1.set_label(r'$T_f$ ($^\\circ$ C)', fontsize=16)\n",
    "ax1.set_ylabel(r'$t$ (h)')\n",
    "ax1.set_box_aspect(1)\n",
    "# ax1.set_xlim([0, 6])\n",
    "\n",
    "cs2 = ax2.contourf(x, t/3600, Ts.T - 273, 10)\n",
    "cbar2 = plt.colorbar(cs2)\n",
    "cbar2.set_label(r'$T_s$ ($^\\circ$ C)', fontsize=16)\n",
    "ax2.set_xlabel(r'$y$ (m)')\n",
    "ax2.set_ylabel(r'$t$ (h)')\n",
    "ax2.set_box_aspect(1)\n",
    "# ax2.set_xlim([0, 6])\n",
    "\n",
    "\n",
    "# plt.colorbar()\n",
    "# plt.xlim([0, 0.05])\n",
    "# plt.ylim([0, 10])\n",
    "#plt.savefig('T_vs_x_t.pdf')\n",
    "\n",
    "plt.show()"
   ]
  },
  {
   "cell_type": "code",
   "execution_count": 15,
   "id": "3dee7e20",
   "metadata": {},
   "outputs": [],
   "source": [
    "dx0 = int(1.5/dx)"
   ]
  },
  {
   "cell_type": "code",
   "execution_count": 16,
   "id": "fa185e74",
   "metadata": {},
   "outputs": [
    {
     "data": {
      "text/plain": [
       "592.2378716744913"
      ]
     },
     "execution_count": 16,
     "metadata": {},
     "output_type": "execute_result"
    }
   ],
   "source": [
    "data = np.loadtxt('./validation_Peng.csv', delimiter=\";\", dtype=float)\n",
    "tv = data[:,0]\n",
    "Tv = data[:,1]\n",
    "Tv[-1]"
   ]
  },
  {
   "cell_type": "code",
   "execution_count": 17,
   "id": "63d30206",
   "metadata": {
    "scrolled": false
   },
   "outputs": [
    {
     "name": "stderr",
     "output_type": "stream",
     "text": [
      "The PostScript backend does not support transparency; partially transparent artists will be rendered opaque.\n"
     ]
    },
    {
     "data": {
      "image/png": "[encoded data removed]",
      "text/plain": [
       "<Figure size 354.331x472.441 with 1 Axes>"
      ]
     },
     "metadata": {},
     "output_type": "display_data"
    }
   ],
   "source": [
    "fig, ax = plt.subplots(figsize=(9*cm,12*cm))\n",
    "plt.plot(t/3600, Ts[dx0,:], tv, Tv, '-o')\n",
    "\n",
    "plt.gca().set_prop_cycle(None)\n",
    "\n",
    "# plt.plot(s0hexp[:,0], s0hexp[:,1], 'ks', s0p5h[:,0], s0p5h[:,1], 's', \\\n",
    "#          s1h[:,0], s1h[:,1], 's', s1p5h[:,0], s1p5h[:,1], 's', s2h[:,0], s2h[:,1], 's')\n",
    "\n",
    "plt.ylim([440, 600])\n",
    "plt.xlim([0, 8])\n",
    "plt.legend([r'Num.', r'Peng et al.(2015)'], fontsize=10)\n",
    "ax.set_box_aspect(1)\n",
    "ax.set_xlabel(r'$t$ (h)')\n",
    "ax.set_ylabel(r'$T$ (K)')\n",
    "# plt.savefig('validation_T_vs_x.pdf', bbox_inches='tight')\n",
    "plt.savefig('./validation_T_vs_x_Peng.eps', bbox_inches='tight', format='eps')\n",
    "plt.show()"
   ]
  },
  {
   "cell_type": "code",
   "execution_count": null,
   "id": "ebb809e4",
   "metadata": {},
   "outputs": [],
   "source": []
  },
  {
   "cell_type": "code",
   "execution_count": null,
   "id": "f8a35417",
   "metadata": {},
   "outputs": [],
   "source": []
  }
 ],
 "metadata": {
  "kernelspec": {
   "display_name": "Python 3 (ipykernel)",
   "language": "python",
   "name": "python3"
  },
  "language_info": {
   "codemirror_mode": {
    "name": "ipython",
    "version": 3
   },
   "file_extension": ".py",
   "mimetype": "text/x-python",
   "name": "python",
   "nbconvert_exporter": "python",
   "pygments_lexer": "ipython3",
   "version": "3.11.4"
  }
 },
 "nbformat": 4,
 "nbformat_minor": 5
}
