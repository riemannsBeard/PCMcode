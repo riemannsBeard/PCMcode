{
 "cells": [
  {
   "cell_type": "code",
   "execution_count": 20,
   "id": "dfd4ad85",
   "metadata": {},
   "outputs": [],
   "source": [
    "import numpy as np\n",
    "import matplotlib.pyplot as plt\n",
    "from scipy.sparse import diags\n",
    "from scipy.sparse.linalg import spsolve\n",
    "from scipy.sparse import identity"
   ]
  },
  {
   "cell_type": "code",
   "execution_count": 21,
   "id": "383395fc",
   "metadata": {},
   "outputs": [],
   "source": [
    "Nx = 50  # Número de puntos en el dominio espacial\n",
    "Nt = 2000  # Número de pasos de tiempo\n",
    "\n",
    "H = 11.3\n",
    "Tmax = 800\n",
    "u = 1e-3\n",
    "\n",
    "# Discretización espacial\n",
    "dx = H / Nx\n",
    "x = np.linspace(0, H, Nx + 1)  # Incluye extremos\n",
    "\n",
    "# Discretización temporal\n",
    "dt = Tmax / Nt\n",
    "\n",
    "# Crear matrices dispersas para las derivadas espaciales\n",
    "A = diags([1, -2, 1], [-1, 0, 1], shape=(Nx + 1, Nx + 1)) / dx**2\n",
    "B = diags([1, -1], [0, 1], shape=(Nx + 1, Nx + 1)) / (2 * dx)"
   ]
  },
  {
   "cell_type": "code",
   "execution_count": 22,
   "id": "39755f45",
   "metadata": {},
   "outputs": [
    {
     "data": {
      "text/plain": [
       "0.226"
      ]
     },
     "execution_count": 22,
     "metadata": {},
     "output_type": "execute_result"
    }
   ],
   "source": [
    "dx"
   ]
  },
  {
   "cell_type": "code",
   "execution_count": 52,
   "id": "f7ef3f90",
   "metadata": {},
   "outputs": [],
   "source": [
    "# Inicializar matrices y vectores\n",
    "T = np.zeros(Nx + 1)\n",
    "Ts = np.zeros(Nx + 1) + Tmax\n",
    "\n",
    "T[0] = Tmax  # Condición en x = 0"
   ]
  },
  {
   "cell_type": "code",
   "execution_count": 53,
   "id": "5d7a11f2",
   "metadata": {},
   "outputs": [],
   "source": [
    "rhof = 1977\n",
    "cpf = 700\n",
    "eps = 0.22\n",
    "rhos = rhof\n",
    "cps = cpf\n",
    "Lambda = 0.29"
   ]
  },
  {
   "cell_type": "code",
   "execution_count": 54,
   "id": "dedcd26b",
   "metadata": {},
   "outputs": [],
   "source": [
    "eps = 0.22\n",
    "alpha = eps*rhof*cpf\n",
    "beta = eps*Lambda\n",
    "gamma = (1-eps)*rhos*cps\n",
    "#hv = alpha*6*(1-eps)/d\n",
    "hv = 66"
   ]
  },
  {
   "cell_type": "code",
   "execution_count": 55,
   "id": "df7a40a2",
   "metadata": {},
   "outputs": [],
   "source": [
    "# Matrices y vectores para las ecuaciones matriciales\n",
    "I = identity(Nx + 1)\n",
    "alpha_matrix = alpha / dt * I\n",
    "beta_matrix = beta / 2 * (A + I)\n",
    "u_alpha_matrix = u * alpha / 4 * B\n",
    "hv_matrix = hv / 2 * I"
   ]
  },
  {
   "cell_type": "code",
   "execution_count": 59,
   "id": "84f25617",
   "metadata": {},
   "outputs": [],
   "source": [
    "# Crear matrices dispersas para las derivadas espaciales\n",
    "A = diags([1, -2, 1], [-1, 0, 1], shape=(Nx + 1, Nx + 1)) / dx**2\n",
    "B = diags([1, -1], [0, 1], shape=(Nx + 1, Nx + 1)) / (2 * dx)\n",
    "\n",
    "# Matrices para almacenar soluciones en cada paso de tiempo (incluyendo extremos)\n",
    "soluciones_T = np.zeros((Nt + 1, Nx + 1))\n",
    "soluciones_Ts = np.zeros((Nt + 1, Nx + 1))\n",
    "\n",
    "# Inicializar matriz de coeficientes para T y Ts\n",
    "coef_matrix_T = alpha / dt * A + beta / 2 * (A + np.identity(Nx + 1)) - u * alpha / 4 * B\n",
    "coef_matrix_Ts = np.identity(Nx + 1) + (gamma * hv * dt) * np.identity(Nx + 1)\n",
    "\n",
    "# Establecer condiciones iniciales y de contorno para T\n",
    "Tmax_array = np.full(Nx + 1, Tmax)  # Vector con Tmax en todas las posiciones\n",
    "coef_matrix_T[0, :] = 0  # Fila de ceros en la primera fila\n",
    "coef_matrix_T[0, 0] = 1  # Un 1 en la diagonal principal para la primera fila\n",
    "coef_matrix_T[Nx, :] = 0  # Fila de ceros en la última fila\n",
    "coef_matrix_T[Nx, Nx] = 1  # Un 1 en la diagonal principal para la última fila\n",
    "\n",
    "# Establecer condiciones iniciales y de contorno para Ts\n",
    "Ts_initial = np.zeros(Nx + 1)  # Puedes establecer los valores iniciales de Ts aquí si es necesario\n"
   ]
  },
  {
   "cell_type": "code",
   "execution_count": 61,
   "id": "ac64d8ef",
   "metadata": {},
   "outputs": [
    {
     "name": "stderr",
     "output_type": "stream",
     "text": [
      "C:\\Users\\MAAL1A\\AppData\\Local\\anaconda3\\Lib\\site-packages\\scipy\\sparse\\linalg\\_dsolve\\linsolve.py:214: SparseEfficiencyWarning: spsolve requires A be CSC or CSR matrix format\n",
      "  warn('spsolve requires A be CSC or CSR matrix format',\n",
      "C:\\Users\\MAAL1A\\AppData\\Local\\Temp\\ipykernel_17776\\441279516.py:11: RuntimeWarning: overflow encountered in multiply\n",
      "  Ts = Ts_initial + gamma * hv * dt * (Tmax_array - Ts_initial)\n",
      "C:\\Users\\MAAL1A\\AppData\\Local\\Temp\\ipykernel_17776\\441279516.py:11: RuntimeWarning: invalid value encountered in add\n",
      "  Ts = Ts_initial + gamma * hv * dt * (Tmax_array - Ts_initial)\n"
     ]
    }
   ],
   "source": [
    "# Iteración en el tiempo\n",
    "for i in range(Nt + 1):\n",
    "    # Almacenar soluciones en matrices (incluyendo extremos)\n",
    "    soluciones_T[i] = Tmax_array\n",
    "    soluciones_Ts[i] = Ts_initial\n",
    "\n",
    "    # Resolver el sistema para T en el paso de tiempo actual\n",
    "    T = spsolve(coef_matrix_T, Tmax_array)\n",
    "\n",
    "    # Calcular Ts en el paso de tiempo actual utilizando el método de Euler\n",
    "    Ts = Ts_initial + gamma * hv * dt * (Tmax_array - Ts_initial)\n",
    "\n",
    "    # Actualizar las condiciones iniciales de Ts para el próximo paso de tiempo\n",
    "    Ts_initial = Ts"
   ]
  },
  {
   "cell_type": "code",
   "execution_count": 62,
   "id": "0090cc97",
   "metadata": {},
   "outputs": [
    {
     "data": {
      "text/plain": [
       "array([[800., 800., 800., ..., 800., 800., 800.],\n",
       "       [800., 800., 800., ..., 800., 800., 800.],\n",
       "       [800., 800., 800., ..., 800., 800., 800.],\n",
       "       ...,\n",
       "       [800., 800., 800., ..., 800., 800., 800.],\n",
       "       [800., 800., 800., ..., 800., 800., 800.],\n",
       "       [800., 800., 800., ..., 800., 800., 800.]])"
      ]
     },
     "execution_count": 62,
     "metadata": {},
     "output_type": "execute_result"
    }
   ],
   "source": [
    "soluciones_T"
   ]
  },
  {
   "cell_type": "code",
   "execution_count": null,
   "id": "d6a1d3e6",
   "metadata": {},
   "outputs": [],
   "source": []
  }
 ],
 "metadata": {
  "kernelspec": {
   "display_name": "Python 3 (ipykernel)",
   "language": "python",
   "name": "python3"
  },
  "language_info": {
   "codemirror_mode": {
    "name": "ipython",
    "version": 3
   },
   "file_extension": ".py",
   "mimetype": "text/x-python",
   "name": "python",
   "nbconvert_exporter": "python",
   "pygments_lexer": "ipython3",
   "version": "3.11.4"
  }
 },
 "nbformat": 4,
 "nbformat_minor": 5
}
