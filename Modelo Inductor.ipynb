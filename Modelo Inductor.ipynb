{
 "cells": [
  {
   "cell_type": "code",
   "execution_count": 2,
   "id": "ea6767d2",
   "metadata": {},
   "outputs": [],
   "source": [
    "%matplotlib inline\n",
    "import matplotlib_inline\n",
    "matplotlib_inline.backend_inline.set_matplotlib_formats('svg','pdf')\n",
    "\n",
    "import numpy as np\n",
    "import matplotlib.pyplot as plt\n",
    "import scipy.special as sc\n",
    "\n",
    "plt.rcParams['text.usetex'] = True\n",
    "plt.rcParams['font.family'] = 'Times'\n",
    "plt.rcParams['legend.fontsize'] = 12\n",
    "plt.rcParams['axes.labelsize'] = 16\n",
    "plt.rcParams['axes.titlesize'] = 16\n",
    "plt.rcParams['figure.titlesize'] = 16\n",
    "plt.rcParams['xtick.labelsize'] = 12\n",
    "plt.rcParams['ytick.labelsize'] = 12"
   ]
  },
  {
   "cell_type": "code",
   "execution_count": 15,
   "id": "0e021bea",
   "metadata": {},
   "outputs": [
    {
     "data": {
      "text/plain": [
       "(39.63327297606011+39.63327297606011j)"
      ]
     },
     "execution_count": 15,
     "metadata": {},
     "output_type": "execute_result"
    }
   ],
   "source": [
    "f = 50\n",
    "omega = 2*np.pi*f\n",
    "rho = 1e-7\n",
    "mu = 1e-6\n",
    "alpha = np.sqrt(omega*mu/(2*rho))\n",
    "m = np.sqrt(2*1j)*alpha\n",
    "b = 0.92\n"
   ]
  },
  {
   "cell_type": "code",
   "execution_count": 16,
   "id": "4f36af64",
   "metadata": {},
   "outputs": [],
   "source": [
    "AbyB = -(sc.kerp(np.real(m*b)) + 1j*sc.keip(np.imag(m*b)))/(sc.berp(np.real(m*b)) + 1j*sc.beip(np.imag(m*b)))"
   ]
  },
  {
   "cell_type": "code",
   "execution_count": 17,
   "id": "209e9cd4",
   "metadata": {},
   "outputs": [
    {
     "data": {
      "text/plain": [
       "(3.2496851912231576e-23-1.2425177535303372e-22j)"
      ]
     },
     "execution_count": 17,
     "metadata": {},
     "output_type": "execute_result"
    }
   ],
   "source": [
    "AbyB"
   ]
  },
  {
   "cell_type": "code",
   "execution_count": null,
   "id": "2292dabf",
   "metadata": {},
   "outputs": [],
   "source": []
  }
 ],
 "metadata": {
  "kernelspec": {
   "display_name": "Python 3 (ipykernel)",
   "language": "python",
   "name": "python3"
  },
  "language_info": {
   "codemirror_mode": {
    "name": "ipython",
    "version": 3
   },
   "file_extension": ".py",
   "mimetype": "text/x-python",
   "name": "python",
   "nbconvert_exporter": "python",
   "pygments_lexer": "ipython3",
   "version": "3.11.4"
  }
 },
 "nbformat": 4,
 "nbformat_minor": 5
}
